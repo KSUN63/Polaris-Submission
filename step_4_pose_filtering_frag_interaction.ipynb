{
 "cells": [
  {
   "cell_type": "markdown",
   "metadata": {},
   "source": [
    "In the previous step, we have generated the candidate poses. Now, we will filter the poses based on the its RMSD with the reference ligands and protein-ligand interaction score\n",
    "\n",
    "# Now we have two cases in total:\n",
    "\n",
    "1. the ligand has some references and has at least one pose that has less than 10 of our customized score\n",
    "2. the ligand has some references but didn't have any pose that has less than 10 of our customized score\n",
    "2. the ligand has no references\n",
    "\n",
    "for case 1:\n",
    "    we will select the top 10 (or less when less than 10 pass the threshold) poses with the lowest RMSD with the reference ligand, and send them for protein-ligand interaction scoring to select the best pose\n",
    "\n",
    "for case 2:\n",
    "    we will do upsampling first to see if we can generate any pose, and use GBSA-optimzied pose based on GBSA score if we fail\n",
    "\n",
    "for case 3:\n",
    "    we will select the best GBSA-optimzied pose based on the calcualted GBSA score"
   ]
  },
  {
   "cell_type": "code",
   "execution_count": 1,
   "metadata": {},
   "outputs": [],
   "source": [
    "import glob, os, shutil, pickle\n",
    "from rdkit import Chem\n",
    "from tqdm import tqdm\n",
    "import numpy as np\n",
    "import pandas as pd\n",
    "from rdkit.Chem.rdFMCS import FindMCS\n",
    "\n",
    "def select_ligand_from_multiple_references_simplified(folder_path, file_name = \"candidate_ligands\", weights = None):\n",
    "    \"\"\"\n",
    "    Simplified selection method when all candidates are the same molecule in different poses.\n",
    "    \n",
    "    Parameters:\n",
    "    -----------\n",
    "    folder_path : str\n",
    "        Path to folder containing candidate ligand poses (.sdf files)\n",
    "    reference_files : list\n",
    "        List of paths to reference ligand SDF files\n",
    "    weights : list, optional\n",
    "        List of weights for each reference (defaults to equal weights)\n",
    "        \n",
    "    Returns:\n",
    "    --------\n",
    "    str : Path to best ligand pose\n",
    "    \"\"\"\n",
    "    # Load all candidate poses\n",
    "    ligand_files = glob.glob(os.path.join(folder_path, file_name, \"*.sdf\"))\n",
    "    reference_files = glob.glob(os.path.join(folder_path, \"*.sdf\"))\n",
    "    if not ligand_files or not reference_files:\n",
    "        return None\n",
    "    \n",
    "    candidate_mols = []\n",
    "    for ligand_file in ligand_files:\n",
    "        mol = Chem.SDMolSupplier(ligand_file, removeHs=True)[0]\n",
    "        if mol is not None:\n",
    "            candidate_mols.append((ligand_file, mol))\n",
    "    \n",
    "    if not candidate_mols:\n",
    "        return None\n",
    "    \n",
    "    # Use the first candidate to calculate MCS with references (since they're all the same molecule)\n",
    "    template_mol = candidate_mols[0][1]\n",
    "    \n",
    "    # Load reference ligands\n",
    "    references = []\n",
    "    for i, ref_file in enumerate(reference_files):\n",
    "        ref_mol = Chem.SDMolSupplier(ref_file, removeHs=True)[0]\n",
    "        if ref_mol is None:\n",
    "            continue\n",
    "        # Assign weight\n",
    "        weight = 1.0 if weights is None else weights[i]\n",
    "        references.append((ref_mol, weight))\n",
    "    # Pre-calculate MCS for each reference against the template molecule\n",
    "    mcs_cache = []\n",
    "    for ref_mol, weight in references:\n",
    "        # Find maximum common substructure\n",
    "        mcs = FindMCS([ref_mol, template_mol])\n",
    "        if mcs.numAtoms < 5:  # Skip if MCS is too small\n",
    "            continue\n",
    "        mcs_mol = Chem.MolFromSmarts(mcs.smartsString)\n",
    "        # Get atom indices for the MCS\n",
    "        ref_match = ref_mol.GetSubstructMatch(mcs_mol)\n",
    "        if not ref_match:\n",
    "            continue\n",
    "        mcs_cache.append((ref_mol, weight, mcs_mol, ref_match))\n",
    "    \n",
    "    # Score each candidate pose\n",
    "    score_dict = {}\n",
    "    \n",
    "    for ligand_file, candidate_mol in candidate_mols:\n",
    "        total_score = 0\n",
    "        total_weight = 0\n",
    "        \n",
    "        for ref_mol, weight, mcs_mol, ref_match in mcs_cache:\n",
    "            # Get atom indices for the candidate\n",
    "            candidate_match = candidate_mol.GetSubstructMatch(mcs_mol)\n",
    "            if not candidate_match:\n",
    "                continue\n",
    "            # Get coordinates\n",
    "            ref_coords = ref_mol.GetConformer().GetPositions()[list(ref_match)]\n",
    "            candidate_coords = candidate_mol.GetConformer().GetPositions()[list(candidate_match)]\n",
    "            # Calculate RMSD of the matching fragment\n",
    "            rmsd = np.sqrt(np.sum((ref_coords - candidate_coords) ** 2))\n",
    "            # Weight the RMSD by the fragment size and reference importance\n",
    "            fragment_fraction = len(ref_match) / ref_mol.GetNumAtoms()\n",
    "            weighted_score = rmsd * weight * fragment_fraction\n",
    "            \n",
    "            total_score += weighted_score\n",
    "            total_weight += weight * fragment_fraction\n",
    "        \n",
    "        # Calculate normalized score\n",
    "        if total_weight > 0:\n",
    "            final_score = total_score / total_weight\n",
    "            score_dict[ligand_file] = final_score\n",
    "    \n",
    "    return score_dict"
   ]
  },
  {
   "cell_type": "markdown",
   "metadata": {},
   "source": [
    "## Sars-frag-filter"
   ]
  },
  {
   "cell_type": "code",
   "execution_count": null,
   "metadata": {},
   "outputs": [
    {
     "name": "stderr",
     "output_type": "stream",
     "text": [
      "  0%|          | 0/98 [00:00<?, ?it/s]"
     ]
    },
    {
     "name": "stderr",
     "output_type": "stream",
     "text": [
      "100%|██████████| 98/98 [41:48<00:00, 25.60s/it]  \n"
     ]
    }
   ],
   "source": [
    "sars_test_prediction_folder = \"/pscratch/sd/k/kysun/polaris/frag_docking_combined/frag-results-sars-test\"\n",
    "\n",
    "frag_score_dict = {}\n",
    "for folder in tqdm(glob.glob(os.path.join(sars_test_prediction_folder, \"*\", \"candidate_ligands\"))):\n",
    "    ref_folder = folder.replace(\"candidate_ligands\", \"\")\n",
    "    lig_name = folder.split(\"/\")[-2]\n",
    "    frag_score_dict[lig_name] = select_ligand_from_multiple_references_simplified(ref_folder, weights = None)"
   ]
  },
  {
   "cell_type": "code",
   "execution_count": null,
   "metadata": {},
   "outputs": [],
   "source": [
    "sars_test_prediction_folder = \"/pscratch/sd/k/kysun/polaris/frag_docking_combined/frag-results-sars-test\"\n",
    "frag_score_dict = pickle.load(open(\"frag_score_dict_sars_test.pkl\", \"rb\"))\n",
    "\n",
    "# get statistics\n",
    "no_ref = len([x for x in frag_score_dict.keys() if frag_score_dict[x] is None])\n",
    "print(\"Number of ligands with no reference: \", no_ref)\n",
    "\n",
    "ligs_with_ref_bad_score = []\n",
    "\n",
    "count = 0\n",
    "# for those with reference, select top 10 of all poses that has a score of 10 or less\n",
    "for lig_name in frag_score_dict.keys():\n",
    "    shutil.rmtree(os.path.join(sars_test_prediction_folder, lig_name, \"top_10_poses\"), ignore_errors=True)\n",
    "    os.makedirs(os.path.join(sars_test_prediction_folder, lig_name, \"top_10_poses\"), exist_ok=True)\n",
    "    if frag_score_dict[lig_name] is not None:\n",
    "        sorted_poses = sorted(frag_score_dict[lig_name].items(), key=lambda x: x[1])\n",
    "        all_scores = []\n",
    "        for i, (pose, score) in enumerate(sorted_poses[:10]):\n",
    "            if score <= 10:\n",
    "                all_scores.append(score)\n",
    "                shutil.copy(pose, os.path.join(sars_test_prediction_folder, lig_name, \"top_10_poses\"))\n",
    "        print(f\"Ligand {lig_name} has {len(all_scores)} poses with a score of 10 or less, average score: {np.mean(all_scores)}\")\n",
    "        if np.min(list(frag_score_dict[lig_name].values())) > 10:\n",
    "            count += 1\n",
    "            ligs_with_ref_bad_score.append(lig_name)\n",
    "            print(f\"Ligand {lig_name} has no poses with a score of 10 or less, moving all poses\")\n",
    "            for pose, score in sorted_poses[:10]:\n",
    "                shutil.copy(pose, os.path.join(sars_test_prediction_folder, lig_name, \"top_10_poses\"))\n",
    "    else:\n",
    "        for pose in glob.glob(os.path.join(sars_test_prediction_folder, lig_name, \"candidate_ligands\", \"*.sdf\")):\n",
    "            shutil.copy(pose, os.path.join(sars_test_prediction_folder, lig_name, \"top_10_poses\"))\n",
    "            \n",
    "print(f\"Number of ligands with no poses with a score of 10 or less: {count}\")\n",
    "            "
   ]
  },
  {
   "cell_type": "code",
   "execution_count": 8,
   "metadata": {},
   "outputs": [
    {
     "name": "stderr",
     "output_type": "stream",
     "text": [
      "100%|██████████| 11/11 [03:05<00:00, 16.90s/it]\n"
     ]
    }
   ],
   "source": [
    "# enhanced sampling for those that have no poses with a score of 10 but have reference\n",
    "ligs_to_search = ligs_with_ref_bad_score\n",
    "sars_test_prediction_folder = \"/pscratch/sd/k/kysun/polaris/frag_docking_combined/frag-results-sars-test\"\n",
    "\n",
    "frag_score_dict_enhanced = {}\n",
    "for lig in tqdm(ligs_to_search):\n",
    "    folder = os.path.join(sars_test_prediction_folder, lig, \"candidate_ligands_enhanced\")    \n",
    "    ref_folder = folder.replace(\"candidate_ligands_enhanced\", \"\")\n",
    "    lig_name = lig\n",
    "    frag_score_dict_enhanced[lig_name] = select_ligand_from_multiple_references_simplified(ref_folder, file_name = \"candidate_ligands_enhanced\")"
   ]
  },
  {
   "cell_type": "code",
   "execution_count": 17,
   "metadata": {},
   "outputs": [
    {
     "name": "stdout",
     "output_type": "stream",
     "text": [
      "Ligand lig37 has no better poses through enhanced sampling\n",
      "Ligand lig74 has no better poses through enhanced sampling\n",
      "Ligand lig55 has no better poses through enhanced sampling\n",
      "Ligand lig75 has no poses through enhanced sampling\n",
      "Ligand lig48 has no better poses through enhanced sampling\n",
      "Ligand lig69 has no poses through enhanced sampling\n",
      "Ligand lig46 has no better poses through enhanced sampling\n",
      "Ligand lig21 has no better poses through enhanced sampling\n",
      "Ligand lig63 has no better poses through enhanced sampling\n"
     ]
    }
   ],
   "source": [
    "frag_score_dict_enhanced = pickle.load(open(\"frag_score_dict_enhanced_sars_test.pkl\", \"rb\"))\n",
    "\n",
    "for lig_name in frag_score_dict_enhanced.keys():\n",
    "    shutil.rmtree(os.path.join(sars_test_prediction_folder, lig_name, \"top_10_poses_enhanced\"), ignore_errors=True)\n",
    "    if frag_score_dict_enhanced[lig_name] is not None:\n",
    "        sorted_poses = sorted(frag_score_dict_enhanced[lig_name].items(), key=lambda x: x[1])\n",
    "        all_scores = []\n",
    "        for i, (pose, score) in enumerate(sorted_poses[:10]):\n",
    "            if score <= 10:\n",
    "                all_scores.append(score)\n",
    "                os.makedirs(os.path.join(sars_test_prediction_folder, lig_name, \"top_10_poses_enhanced\"), exist_ok=True)\n",
    "                shutil.copy(pose, os.path.join(sars_test_prediction_folder, lig_name, \"top_10_poses_enhanced\"))\n",
    "        if np.min(list(frag_score_dict_enhanced[lig_name].values())) > 10:\n",
    "            print(f\"Ligand {lig_name} has no better poses through enhanced sampling\")\n",
    "    else:\n",
    "        print(f\"Ligand {lig_name} has no poses through enhanced sampling\")"
   ]
  },
  {
   "cell_type": "markdown",
   "metadata": {},
   "source": [
    "## Mers-frag-filter"
   ]
  },
  {
   "cell_type": "code",
   "execution_count": 5,
   "metadata": {},
   "outputs": [
    {
     "name": "stderr",
     "output_type": "stream",
     "text": [
      "  0%|          | 0/97 [00:00<?, ?it/s]"
     ]
    }
   ],
   "source": [
    "mers_test_prediction_folder = \"/pscratch/sd/k/kysun/polaris/frag_docking_combined/frag-results-mers-test\"\n",
    "\n",
    "frag_score_dict_mers = {}\n",
    "for folder in tqdm(glob.glob(os.path.join(mers_test_prediction_folder, \"*\", \"candidate_ligands\"))):\n",
    "    ref_folder = folder.replace(\"candidate_ligands\", \"\")\n",
    "    rmsd_temp_dict = {}\n",
    "    lig_name = folder.split(\"/\")[-2]\n",
    "    lig_index = int(lig_name[3:])\n",
    "    frag_score_dict_mers[lig_name] = select_ligand_from_multiple_references_simplified(ref_folder, weights = None)"
   ]
  },
  {
   "cell_type": "code",
   "execution_count": null,
   "metadata": {},
   "outputs": [],
   "source": [
    "mers_test_prediction_folder = \"/pscratch/sd/k/kysun/polaris/frag_docking_combined/frag-results-mers-test\"\n",
    "frag_score_dict_mers = pickle.load(open(\"frag_score_dict_mers_test.pkl\", \"rb\"))\n",
    "\n",
    "# get statistics\n",
    "no_ref = len([x for x in frag_score_dict_mers.keys() if frag_score_dict_mers[x] is None])\n",
    "print(\"Number of ligands with no reference: \", no_ref)\n",
    "\n",
    "ligs_with_ref_bad_score_mers = []\n",
    "\n",
    "count = 0\n",
    "# for those with reference, select top 10 of all poses that has a score of 10 or less\n",
    "for lig_name in frag_score_dict_mers.keys():\n",
    "    os.makedirs(os.path.join(mers_test_prediction_folder, lig_name, \"top_10_poses\"), exist_ok=True)\n",
    "    if frag_score_dict_mers[lig_name] is not None:\n",
    "        sorted_poses = sorted(frag_score_dict_mers[lig_name].items(), key=lambda x: x[1])\n",
    "        all_scores =[]\n",
    "        for i, (pose, score) in enumerate(sorted_poses[:10]):\n",
    "            if score <= 10:\n",
    "                all_scores.append(score)\n",
    "                shutil.copy(pose, os.path.join(mers_test_prediction_folder, lig_name, \"top_10_poses\"))\n",
    "        print(f\"Ligand {lig_name} has {len(all_scores)} poses with a score of 10 or less, average score: {np.mean(all_scores)}\")\n",
    "        if np.min(list(frag_score_dict_mers[lig_name].values())) > 10:\n",
    "            count += 1\n",
    "            ligs_with_ref_bad_score_mers.append(lig_name)\n",
    "            print(f\"Ligand {lig_name} has no poses with a score of 10 or less, moving all poses\")\n",
    "            for pose, score in sorted_poses[:10]:\n",
    "                shutil.copy(pose, os.path.join(mers_test_prediction_folder, lig_name, \"top_10_poses\"))\n",
    "    else:\n",
    "        for pose in glob.glob(os.path.join(mers_test_prediction_folder, lig_name, \"candidate_ligands\", \"*.sdf\")):\n",
    "            shutil.copy(pose, os.path.join(mers_test_prediction_folder, lig_name, \"top_10_poses\"))\n",
    "            \n",
    "print(f\"Number of ligands with no poses with a score of 10 or less: {count}\")"
   ]
  },
  {
   "cell_type": "code",
   "execution_count": 12,
   "metadata": {},
   "outputs": [
    {
     "name": "stderr",
     "output_type": "stream",
     "text": [
      "100%|██████████| 14/14 [03:40<00:00, 15.75s/it]\n"
     ]
    }
   ],
   "source": [
    "ligs_to_search = ligs_with_ref_bad_score_mers\n",
    "mers_test_prediction_folder = \"/pscratch/sd/k/kysun/polaris/frag_docking_combined/frag-results-mers-test\"\n",
    "\n",
    "frag_score_dict_enhanced_mers = {}\n",
    "for lig in tqdm(ligs_to_search):\n",
    "    folder = os.path.join(mers_test_prediction_folder, lig, \"candidate_ligands_enhanced\")    \n",
    "    ref_folder = folder.replace(\"candidate_ligands_enhanced\", \"\")\n",
    "    lig_name = lig\n",
    "    frag_score_dict_enhanced_mers[lig_name] = select_ligand_from_multiple_references_simplified(ref_folder, file_name = \"candidate_ligands_enhanced\")"
   ]
  },
  {
   "cell_type": "code",
   "execution_count": 18,
   "metadata": {},
   "outputs": [
    {
     "name": "stdout",
     "output_type": "stream",
     "text": [
      "Ligand lig17 has no poses through enhanced sampling\n",
      "Ligand lig34 has no better poses through enhanced sampling\n",
      "Ligand lig66 has no poses through enhanced sampling\n",
      "Ligand lig90 has no poses through enhanced sampling\n",
      "Ligand lig93 has no better poses through enhanced sampling\n",
      "Ligand lig12 has no better poses through enhanced sampling\n",
      "Ligand lig27 has no poses through enhanced sampling\n",
      "Ligand lig31 has no better poses through enhanced sampling\n",
      "Ligand lig8 has no poses through enhanced sampling\n"
     ]
    }
   ],
   "source": [
    "frag_score_dict_enhanced_mers = pickle.load(open(\"frag_score_dict_enhanced_mers_test.pkl\", \"rb\"))\n",
    "\n",
    "for lig_name in frag_score_dict_enhanced_mers.keys():\n",
    "    shutil.rmtree(os.path.join(mers_test_prediction_folder, lig_name, \"top_10_poses_enhanced\"), ignore_errors=True)\n",
    "    if frag_score_dict_enhanced_mers[lig_name] is not None:\n",
    "        sorted_poses = sorted(frag_score_dict_enhanced_mers[lig_name].items(), key=lambda x: x[1])\n",
    "        all_scores = []\n",
    "        for i, (pose, score) in enumerate(sorted_poses[:10]):\n",
    "            if score <= 10:\n",
    "                all_scores.append(score)\n",
    "                os.makedirs(os.path.join(mers_test_prediction_folder, lig_name, \"top_10_poses_enhanced\"), exist_ok=True)\n",
    "                shutil.copy(pose, os.path.join(mers_test_prediction_folder, lig_name, \"top_10_poses_enhanced\"))\n",
    "        if np.min(list(frag_score_dict_enhanced_mers[lig_name].values())) > 10:\n",
    "            print(f\"Ligand {lig_name} has no better poses through enhanced sampling\")\n",
    "    else:\n",
    "        print(f\"Ligand {lig_name} has no poses through enhanced sampling\")"
   ]
  },
  {
   "cell_type": "code",
   "execution_count": 14,
   "metadata": {},
   "outputs": [
    {
     "name": "stdout",
     "output_type": "stream",
     "text": [
      "SARS ligand that has reference but bad score:  11 MERS ligand that has reference but bad score:  14\n"
     ]
    }
   ],
   "source": [
    "print(\"SARS ligand that has reference but bad score: \", len(ligs_with_ref_bad_score), \"MERS ligand that has reference but bad score: \", len(ligs_with_ref_bad_score_mers)) "
   ]
  },
  {
   "cell_type": "code",
   "execution_count": 12,
   "metadata": {},
   "outputs": [],
   "source": [
    "# clean up the top_10_poses folder for Sars-test\n",
    "\n",
    "for folder in glob.glob(os.path.join(sars_test_prediction_folder, \"*\", \"top_10_poses\")):\n",
    "    sdf_files = glob.glob(os.path.join(folder, \"*.sdf\"))\n",
    "    if len(sdf_files) > 10:\n",
    "        conf_to_delete = [f\"conf{i}.sdf\" for i in range(3, 10)]\n",
    "        for file in sdf_files:\n",
    "            if file.split(\"_\")[-1] in conf_to_delete:\n",
    "                os.remove(file)\n",
    "    \n",
    "    folder_for_protein = folder.replace(\"/top_10_poses\", \"\")\n",
    "    polaris_protein_folder = os.path.join(\"/pscratch/sd/k/kysun/polaris/polaris-proteins\")\n",
    "    \n",
    "    updated_sdf_files = glob.glob(os.path.join(folder, \"*.sdf\"))\n",
    "    for file in updated_sdf_files:\n",
    "        folder = os.path.dirname(file)\n",
    "        base_name = os.path.basename(file)\n",
    "        if \"docked_mcsce\" in base_name:\n",
    "            protein_name = base_name.split(\"_\")[0]\n",
    "            conf = base_name.split(\"_\")[-1].replace(\".sdf\", \"\")\n",
    "            new_name = os.path.join(folder, f\"{protein_name}_mcsce_docked_{conf}.sdf\")\n",
    "            os.rename(file, new_name)\n",
    "            protein_file = os.path.join(polaris_protein_folder, \"mcsce\", f\"{protein_name}_fixed.pdb\")\n",
    "            if not os.path.exists(os.path.join(folder_for_protein, f\"{protein_name}_mcsce_protein.pdb\")):\n",
    "                shutil.copy(protein_file, os.path.join(folder_for_protein, f\"{protein_name}_mcsce_protein.pdb\"))\n",
    "        elif \"docked_conf\" in base_name:\n",
    "            protein_name = base_name.split(\"_\")[0]\n",
    "            conf = base_name.split(\"_\")[-1].replace(\".sdf\", \"\")\n",
    "            new_name = os.path.join(folder, f\"{protein_name}_exp_docked_{conf}.sdf\")\n",
    "            os.rename(file, new_name)\n",
    "            protein_file = os.path.join(polaris_protein_folder, \"exp\", f\"{protein_name}_fixed.pdb\")\n",
    "            if not os.path.exists(os.path.join(folder_for_protein, f\"{protein_name}_exp_protein.pdb\")):\n",
    "                shutil.copy(protein_file, os.path.join(folder_for_protein, f\"{protein_name}_exp_protein.pdb\"))\n",
    "\n",
    "    "
   ]
  },
  {
   "cell_type": "code",
   "execution_count": 19,
   "metadata": {},
   "outputs": [
    {
     "name": "stdout",
     "output_type": "stream",
     "text": [
      "Number of ligands with no reference:  17\n"
     ]
    }
   ],
   "source": [
    "# select top 1 pose if there are homologs and similar fragments\n",
    "sars_test_prediction_folder = \"/pscratch/sd/k/kysun/polaris/frag_docking_combined/frag-results-sars-test\"\n",
    "sars_gbsa_folder = \"/pscratch/sd/k/kysun/polaris/final_results/gbsa/frag-results-sars-test\"\n",
    "frag_score_dict = pickle.load(open(\"frag_score_dict_sars_test.pkl\", \"rb\"))\n",
    "frag_score_dict_enhanced = pickle.load(open(\"frag_score_dict_enhanced_sars_test.pkl\", \"rb\"))\n",
    "no_ref = len([x for x in frag_score_dict.keys() if frag_score_dict[x] is None])\n",
    "print(\"Number of ligands with no reference: \", no_ref)\n",
    "\n",
    "# for those with reference, select top 10 of all poses that has a score of 10 or less\n",
    "for lig_name in frag_score_dict.keys():\n",
    "    shutil.rmtree(os.path.join(sars_test_prediction_folder, lig_name, \"top_1_poses\"), ignore_errors=True)\n",
    "    try:\n",
    "        if frag_score_dict[lig_name] is not None:\n",
    "            sorted_poses = sorted(frag_score_dict[lig_name].items(), key=lambda x: x[1])\n",
    "            poses_to_select = [x[0] for x in sorted_poses if x[1] <= 10]\n",
    "            pose = poses_to_select[0]\n",
    "            os.makedirs(os.path.join(sars_test_prediction_folder, lig_name, \"top_1_poses\"), exist_ok=True)\n",
    "            shutil.copy(pose, os.path.join(sars_test_prediction_folder, lig_name, \"top_1_poses\"))\n",
    "        elif frag_score_dict_enhanced[lig_name] is not None:\n",
    "            sorted_poses = sorted(frag_score_dict_enhanced[lig_name].items(), key=lambda x: x[1])\n",
    "            poses_to_select = [x[0] for x in sorted_poses if x[1] <= 10]\n",
    "            pose = poses_to_select[0]\n",
    "            os.makedirs(os.path.join(sars_test_prediction_folder, lig_name, \"top_1_poses\"), exist_ok=True)\n",
    "            shutil.copy(pose, os.path.join(sars_test_prediction_folder, lig_name, \"top_1_poses\"))\n",
    "        else:\n",
    "            gbsa_csv_path = os.path.join(sars_gbsa_folder, lig_name, \"top_10_gbsa.csv\")\n",
    "            top1_ligand = pd.read_csv(gbsa_csv_path)['name'].values[0]\n",
    "            os.makedirs(os.path.join(sars_test_prediction_folder, lig_name, \"top_1_poses\"), exist_ok=True)\n",
    "            shutil.copy(os.path.join(sars_gbsa_folder, lig_name, \"top_10_poses_opt\", f\"{top1_ligand}_opt.sdf\"), os.path.join(sars_test_prediction_folder, lig_name, \"top_1_poses\"))\n",
    "    except Exception as e:\n",
    "        gbsa_csv_path = os.path.join(sars_gbsa_folder, lig_name, \"top_10_gbsa.csv\")\n",
    "        top1_ligand = pd.read_csv(gbsa_csv_path)['name'].values[0]\n",
    "        os.makedirs(os.path.join(sars_test_prediction_folder, lig_name, \"top_1_poses\"), exist_ok=True)\n",
    "        shutil.copy(os.path.join(sars_gbsa_folder, lig_name, \"top_10_poses_opt\", f\"{top1_ligand}_opt.sdf\"), os.path.join(sars_test_prediction_folder, lig_name, \"top_1_poses\"))"
   ]
  },
  {
   "cell_type": "code",
   "execution_count": 20,
   "metadata": {},
   "outputs": [
    {
     "name": "stdout",
     "output_type": "stream",
     "text": [
      "[]\n"
     ]
    },
    {
     "data": {
      "text/plain": [
       "(None, 0)"
      ]
     },
     "execution_count": 20,
     "metadata": {},
     "output_type": "execute_result"
    }
   ],
   "source": [
    "lig_name_no_frag_sars_test = []\n",
    "frag_score_dict = pickle.load(open(\"frag_score_dict_sars_test.pkl\", \"rb\"))\n",
    "for lig_name in frag_score_dict.keys():\n",
    "    if not os.path.exists(os.path.join(sars_test_prediction_folder, lig_name, \"top_1_poses\")):\n",
    "        lig_name_no_frag_sars_test.append(lig_name)\n",
    "\n",
    "print(lig_name_no_frag_sars_test), len(lig_name_no_frag_sars_test)"
   ]
  },
  {
   "cell_type": "code",
   "execution_count": 13,
   "metadata": {},
   "outputs": [],
   "source": [
    "# clean up the top_10_poses folder for Mers-test\n",
    "\n",
    "for folder in glob.glob(os.path.join(mers_test_prediction_folder, \"*\", \"top_10_poses\")):\n",
    "    sdf_files = glob.glob(os.path.join(folder, \"*.sdf\"))\n",
    "    if len(sdf_files) > 10:\n",
    "        conf_to_delete = [f\"conf{i}.sdf\" for i in range(6, 10)]\n",
    "        for file in sdf_files:\n",
    "            if file.split(\"_\")[-1] in conf_to_delete:\n",
    "                os.remove(file)\n",
    "    \n",
    "    folder_for_protein = folder.replace(\"/top_10_poses\", \"\")\n",
    "    polaris_protein_folder = os.path.join(\"/pscratch/sd/k/kysun/polaris/polaris-proteins\")\n",
    "    \n",
    "    updated_sdf_files = glob.glob(os.path.join(folder, \"*.sdf\"))\n",
    "    for file in updated_sdf_files:\n",
    "        folder = os.path.dirname(file)\n",
    "        base_name = os.path.basename(file)\n",
    "        if \"docked_mcsce\" in base_name:\n",
    "            protein_name = base_name.split(\"_\")[0]\n",
    "            conf = base_name.split(\"_\")[-1].replace(\".sdf\", \"\")\n",
    "            new_name = os.path.join(folder, f\"{protein_name}_mcsce_docked_{conf}.sdf\")\n",
    "            os.rename(file, new_name)\n",
    "            protein_file = os.path.join(polaris_protein_folder, \"mcsce\", f\"{protein_name}_fixed.pdb\")\n",
    "            if not os.path.exists(os.path.join(folder_for_protein, f\"{protein_name}_mcsce_protein.pdb\")):\n",
    "                shutil.copy(protein_file, os.path.join(folder_for_protein, f\"{protein_name}_mcsce_protein.pdb\"))\n",
    "        elif \"docked_conf\" in base_name:\n",
    "            protein_name = base_name.split(\"_\")[0]\n",
    "            conf = base_name.split(\"_\")[-1].replace(\".sdf\", \"\")\n",
    "            new_name = os.path.join(folder, f\"{protein_name}_exp_docked_{conf}.sdf\")\n",
    "            os.rename(file, new_name)\n",
    "            protein_file = os.path.join(polaris_protein_folder, \"exp\", f\"{protein_name}_fixed.pdb\")\n",
    "            if not os.path.exists(os.path.join(folder_for_protein, f\"{protein_name}_exp_protein.pdb\")):\n",
    "                shutil.copy(protein_file, os.path.join(folder_for_protein, f\"{protein_name}_exp_protein.pdb\"))\n",
    "\n",
    "    "
   ]
  },
  {
   "cell_type": "code",
   "execution_count": 21,
   "metadata": {},
   "outputs": [
    {
     "name": "stdout",
     "output_type": "stream",
     "text": [
      "Number of ligands with no reference:  10\n"
     ]
    }
   ],
   "source": [
    "# select top 1 pose for Mers-test\n",
    "mers_test_prediction_folder = \"/pscratch/sd/k/kysun/polaris/frag_docking_combined/frag-results-mers-test\"\n",
    "mers_gbsa_folder = \"/pscratch/sd/k/kysun/polaris/final_results/gbsa/frag-results-mers-test\"\n",
    "frag_score_dict_mers = pickle.load(open(\"frag_score_dict_mers_test.pkl\", \"rb\"))\n",
    "frag_score_dict_enhanced_mers = pickle.load(open(\"frag_score_dict_enhanced_mers_test.pkl\", \"rb\"))\n",
    "no_ref = len([x for x in frag_score_dict_mers.keys() if frag_score_dict_mers[x] is None])\n",
    "print(\"Number of ligands with no reference: \", no_ref)  \n",
    "\n",
    "# for those with reference, select top 10 of all poses that has a score of 10 or less\n",
    "for lig_name in frag_score_dict_mers.keys():\n",
    "    shutil.rmtree(os.path.join(mers_test_prediction_folder, lig_name, \"top_1_poses\"), ignore_errors=True)\n",
    "    try:\n",
    "        if frag_score_dict_mers[lig_name] is not None:\n",
    "            sorted_poses = sorted(frag_score_dict_mers[lig_name].items(), key=lambda x: x[1])\n",
    "            poses_to_select = [x[0] for x in sorted_poses if x[1] <= 10]\n",
    "            pose = poses_to_select[0]\n",
    "            os.makedirs(os.path.join(mers_test_prediction_folder, lig_name, \"top_1_poses\"), exist_ok=True)\n",
    "            shutil.copy(pose, os.path.join(mers_test_prediction_folder, lig_name, \"top_1_poses\"))\n",
    "        elif frag_score_dict_enhanced_mers[lig_name] is not None:\n",
    "            sorted_poses = sorted(frag_score_dict_enhanced_mers[lig_name].items(), key=lambda x: x[1])\n",
    "            poses_to_select = [x[0] for x in sorted_poses if x[1] <= 10]\n",
    "            pose = poses_to_select[0]\n",
    "            os.makedirs(os.path.join(mers_test_prediction_folder, lig_name, \"top_1_poses\"), exist_ok=True)\n",
    "            shutil.copy(pose, os.path.join(mers_test_prediction_folder, lig_name, \"top_1_poses\"))\n",
    "        else:\n",
    "            gbsa_csv_path = os.path.join(mers_gbsa_folder, lig_name, \"top_10_gbsa.csv\")\n",
    "            top1_ligand = pd.read_csv(gbsa_csv_path)['name'].values[0]\n",
    "            os.makedirs(os.path.join(mers_test_prediction_folder, lig_name, \"top_1_poses\"), exist_ok=True)\n",
    "            shutil.copy(os.path.join(mers_gbsa_folder, lig_name, \"top_10_poses_opt\", f\"{top1_ligand}_opt.sdf\"), os.path.join(mers_test_prediction_folder, lig_name, \"top_1_poses\"))\n",
    "    except:\n",
    "        gbsa_csv_path = os.path.join(mers_gbsa_folder, lig_name, \"top_10_gbsa.csv\")\n",
    "        top1_ligand = pd.read_csv(gbsa_csv_path)['name'].values[0]\n",
    "        os.makedirs(os.path.join(mers_test_prediction_folder, lig_name, \"top_1_poses\"), exist_ok=True)\n",
    "        shutil.copy(os.path.join(mers_gbsa_folder, lig_name, \"top_10_poses_opt\", f\"{top1_ligand}_opt.sdf\"), os.path.join(mers_test_prediction_folder, lig_name, \"top_1_poses\"))"
   ]
  },
  {
   "cell_type": "code",
   "execution_count": 22,
   "metadata": {},
   "outputs": [
    {
     "name": "stdout",
     "output_type": "stream",
     "text": [
      "[]\n"
     ]
    },
    {
     "data": {
      "text/plain": [
       "(None, 0)"
      ]
     },
     "execution_count": 22,
     "metadata": {},
     "output_type": "execute_result"
    }
   ],
   "source": [
    "lig_name_no_frag_mers_test = []\n",
    "frag_score_dict_mers = pickle.load(open(\"frag_score_dict_mers_test.pkl\", \"rb\"))\n",
    "for lig_name in frag_score_dict_mers.keys():\n",
    "    if not os.path.exists(os.path.join(mers_test_prediction_folder, lig_name, \"top_1_poses\")):\n",
    "        lig_name_no_frag_mers_test.append(lig_name)\n",
    "\n",
    "print(lig_name_no_frag_mers_test), len(lig_name_no_frag_mers_test)"
   ]
  },
  {
   "cell_type": "markdown",
   "metadata": {},
   "source": [
    "## Final Submission of the results"
   ]
  },
  {
   "cell_type": "code",
   "execution_count": 23,
   "metadata": {},
   "outputs": [],
   "source": [
    "raw_results_folder = \"/pscratch/sd/k/kysun/polaris/final_results/raw_results\"\n",
    "submission_folder = \"/pscratch/sd/k/kysun/polaris/final_results/submission\"\n",
    "mers_test_prediction_folder = \"/pscratch/sd/k/kysun/polaris/frag_docking_combined/frag-results-mers-test\"\n",
    "sars_test_prediction_folder = \"/pscratch/sd/k/kysun/polaris/frag_docking_combined/frag-results-sars-test\""
   ]
  },
  {
   "cell_type": "markdown",
   "metadata": {},
   "source": [
    "### If there are references and the score is good, we select the top 1 pose based on the score"
   ]
  },
  {
   "cell_type": "code",
   "execution_count": 24,
   "metadata": {},
   "outputs": [],
   "source": [
    "frag_score_dict_mers = pickle.load(open(\"frag_score_dict_mers_test.pkl\", \"rb\"))\n",
    "shutil.rmtree(os.path.join(raw_results_folder, \"mers_test\"), ignore_errors=True)\n",
    "shutil.rmtree(os.path.join(submission_folder, \"mers_test_final\"), ignore_errors=True)\n",
    "os.makedirs(os.path.join(raw_results_folder, \"mers_test\"), exist_ok=True)\n",
    "os.makedirs(os.path.join(submission_folder, \"mers_test_final\"), exist_ok=True)\n",
    "for lig_name in frag_score_dict_mers.keys():\n",
    "    if not os.path.exists(os.path.join(mers_test_prediction_folder, lig_name, \"top_1_poses\")):\n",
    "        shutil.copytree(os.path.join(mers_test_prediction_folder, lig_name, \"top_10_poses\"), os.path.join(raw_results_folder, \"mers_test\", lig_name))\n",
    "        for file in glob.glob(os.path.join(mers_test_prediction_folder, lig_name, \"*.pdb\")):\n",
    "            shutil.copy(file, os.path.join(raw_results_folder, \"mers_test\", lig_name))\n",
    "    else:\n",
    "        shutil.copy(glob.glob(os.path.join(mers_test_prediction_folder, lig_name, \"top_1_poses\", \"*.sdf\"))[0], os.path.join(submission_folder, \"mers_test_final\", f\"{lig_name}.sdf\"))"
   ]
  },
  {
   "cell_type": "code",
   "execution_count": 25,
   "metadata": {},
   "outputs": [],
   "source": [
    "frag_score_dict_sars = pickle.load(open(\"frag_score_dict_sars_test.pkl\", \"rb\"))\n",
    "shutil.rmtree(os.path.join(raw_results_folder, \"sars_test\"), ignore_errors=True)\n",
    "shutil.rmtree(os.path.join(submission_folder, \"sars_test_final\"), ignore_errors=True)\n",
    "os.makedirs(os.path.join(raw_results_folder, \"sars_test\"), exist_ok=True)\n",
    "os.makedirs(os.path.join(submission_folder, \"sars_test_final\"), exist_ok=True)\n",
    "for lig_name in frag_score_dict_sars.keys():\n",
    "    if not os.path.exists(os.path.join(sars_test_prediction_folder, lig_name, \"top_1_poses\")):\n",
    "        shutil.copytree(os.path.join(sars_test_prediction_folder, lig_name, \"top_10_poses\"), os.path.join(raw_results_folder, \"sars_test\", lig_name))\n",
    "        for file in glob.glob(os.path.join(sars_test_prediction_folder, lig_name, \"*.pdb\")):\n",
    "            shutil.copy(file, os.path.join(raw_results_folder, \"sars_test\", lig_name))\n",
    "    else:\n",
    "        shutil.copy(glob.glob(os.path.join(sars_test_prediction_folder, lig_name, \"top_1_poses\", \"*.sdf\"))[0], os.path.join(submission_folder, \"sars_test_final\", f\"{lig_name}.sdf\"))"
   ]
  }
 ],
 "metadata": {
  "kernelspec": {
   "display_name": "Python 3",
   "language": "python",
   "name": "python3"
  },
  "language_info": {
   "codemirror_mode": {
    "name": "ipython",
    "version": 3
   },
   "file_extension": ".py",
   "mimetype": "text/x-python",
   "name": "python",
   "nbconvert_exporter": "python",
   "pygments_lexer": "ipython3",
   "version": "3.10.13"
  }
 },
 "nbformat": 4,
 "nbformat_minor": 2
}
