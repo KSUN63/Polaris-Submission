{
 "cells": [
  {
   "cell_type": "code",
   "execution_count": 1,
   "id": "6a9df1c5",
   "metadata": {},
   "outputs": [],
   "source": [
    "import sys\n",
    "sys.path.append(\"/global/scratch/users/kysun/envs/vina-gpu-env/iMiner\")"
   ]
  },
  {
   "cell_type": "code",
   "execution_count": 3,
   "id": "0d2e865d",
   "metadata": {},
   "outputs": [],
   "source": [
    "from iMiner.docking.autodock import AutoDockBaseDocking\n",
    "from iMiner.core.project import BaseProject\n",
    "from iMiner.pathlib import *\n",
    "from pathlib import Path\n",
    "import os, glob, shutil, re\n",
    "from tqdm import tqdm"
   ]
  },
  {
   "cell_type": "code",
   "execution_count": 9,
   "id": "f0fd39bd",
   "metadata": {},
   "outputs": [],
   "source": [
    "sars_box = (-20.46, -13.1, -32.79, 3.54, 10.9, -8.79)\n",
    "mers_box = (-3.91, -12.03, 9.95, 20.09, 11.97, 33.95)\n",
    "\n",
    "def write_config(receptor, lig_dir, output_dir, docking_box, config_fp):\n",
    "    '''\n",
    "    Write the config file for AutoDock Vina docking\n",
    "\n",
    "    :param num_modes: int, the number of modes (conformations) to be generated\n",
    "    :param energy_range: int, the energy range of the docking\n",
    "\n",
    "    '''\n",
    "    lines = [f\"receptor = {receptor}\",\n",
    "        f\"ligand_directory = {lig_dir}\",\n",
    "        f\"output_directory = {output_dir}\",\n",
    "        \"\",\n",
    "        \"center_x = {}\".format((docking_box[0] + docking_box[3]) / 2),\n",
    "        \"center_y = {}\".format((docking_box[1] + docking_box[4]) / 2),\n",
    "        \"center_z = {}\".format((docking_box[2] + docking_box[5]) / 2),\n",
    "        \"\",\n",
    "        \"size_x = {}\".format(docking_box[3] - docking_box[0]),\n",
    "        \"size_y = {}\".format(docking_box[4] - docking_box[1]),\n",
    "        \"size_z = {}\".format(docking_box[5] - docking_box[2]),\n",
    "        \"\",\n",
    "        \"thread = 8000\",\n",
    "        \"opencl_binary_path = {}\".format(OPENCL_PATH)\n",
    "    ]\n",
    "    with open(config_fp, \"w\") as f:\n",
    "        f.write(\"\\n\".join(lines))\n",
    "\n",
    "\n",
    "def dock_folder(folder, type = \"sars\"):\n",
    "    \n",
    "    docking_box = sars_box if type == \"sars\" else mers_box\n",
    "    all_config_path = []\n",
    "\n",
    "    # first step is to convert ligand\n",
    "    os.makedirs(os.path.join(folder, \"docking\"), exist_ok=True)\n",
    "    proj = BaseProject('ligand_conversion', project_path = os.path.join(folder, \"docking\"))\n",
    "    with open(os.path.join(folder, \"ligand_smiles.smi\"), \"r\") as f:\n",
    "        smiles = [line.strip() for line in f.readlines()]\n",
    "    names = [f\"frag_dock_lig{i+1}\" for i in range(len(smiles))]\n",
    "    proj.add_multiple_ligands(smiles, names, format='smiles')\n",
    "    \n",
    "    # second step prepare protein and ligand into pdbqt\n",
    "    proteins = glob.glob(os.path.join(folder, \"*_protein.pdb\"))\n",
    "    if len(proteins) == 0: return []\n",
    "    docking = AutoDockBaseDocking(proteins[0], \"\")\n",
    "    lig_folder = os.path.join(folder, \"docking\", \"ligands\")\n",
    "    protein_folder = os.path.join(folder, \"docking\", \"proteins\")\n",
    "    vina_results = os.path.join(folder, \"docking\", \"vina_results\")\n",
    "    os.makedirs(vina_results, exist_ok=True)\n",
    "    ligand_path = glob.glob(os.path.join(lig_folder, '*.sdf')) # should be just 1 smiles\n",
    "    for sdf_p in tqdm(ligand_path):\n",
    "        docking.convert_sdf_to_pdbqt(sdf_p, sdf_p.replace(\".sdf\", \"_in.pdbqt\"))\n",
    "    for pr in proteins:\n",
    "        vina_docking_name =  pr.split(\"/\")[-1].replace(\".pdb\", \"\")\n",
    "        prepared_pdbqt_path = os.path.join(protein_folder, pr.split(\"/\")[-1].replace(\".pdb\", \".pdbqt\"))\n",
    "        result_folder = os.path.join(vina_results, vina_docking_name)\n",
    "        os.makedirs(result_folder, exist_ok=True)\n",
    "        docking.convert_pdb_to_pdbqt(pr, prepared_pdbqt_path)\n",
    "        config_fp = os.path.join(vina_results, f\"{vina_docking_name}.txt\")\n",
    "        write_config(prepared_pdbqt_path, lig_folder, result_folder, docking_box, config_fp)\n",
    "        all_config_path.append(config_fp)\n",
    "    \n",
    "    return all_config_path\n",
    "    "
   ]
  },
  {
   "cell_type": "code",
   "execution_count": null,
   "id": "23faca64",
   "metadata": {},
   "outputs": [],
   "source": [
    "config_paths_everything = []\n",
    "\n",
    "for folder in tqdm(glob.glob(\"/global/scratch/users/kysun/polaris-challenge/docking/vina-prep-frag/*\")):\n",
    "    if os.path.isdir(folder):\n",
    "        name = os.path.basename(folder)\n",
    "        protein_type = name[:4]\n",
    "        configs = dock_folder(folder, protein_type)\n",
    "        config_paths_everything.extend(configs)"
   ]
  },
  {
   "cell_type": "code",
   "execution_count": 12,
   "id": "3ce855a3",
   "metadata": {},
   "outputs": [],
   "source": [
    "# write bash to run all the docking\n",
    "\n",
    "with open(\"/global/scratch/users/kysun/polaris-challenge/docking/vina-prep-frag/run_vina_gpu.sh\", \"w\") as f:\n",
    "    f.write(\"export LD_LIBRARY_PATH=/global/scratch/users/kysun/envs/vina-gpu-env/lib:$LD_LIBRARY_PATH\"+\"\\n\")\n",
    "    f.write(\"ulimit -s 8192\" + \"\\n\")\n",
    "    f.write(\"cd /global/scratch/users/kysun/Vina-GPU-2.1/AutoDock-Vina-GPU-2.1/\"+\"\\n\")\n",
    "    for config in config_paths_everything:\n",
    "        if \"protein.txt\" in config:\n",
    "            f.write(f\"./AutoDock-Vina-GPU-2-1 --config {config}\" + \"\\n\")"
   ]
  },
  {
   "cell_type": "code",
   "execution_count": 15,
   "id": "f7b2c1e5",
   "metadata": {},
   "outputs": [
    {
     "name": "stderr",
     "output_type": "stream",
     "text": [
      "100%|██████████| 1557/1557 [16:06<00:00,  1.61it/s]\n"
     ]
    }
   ],
   "source": [
    "# convert docked result back to sdf\n",
    "\n",
    "folder = \"vina-results-frag\"\n",
    "os.makedirs(folder, exist_ok = True)\n",
    "results = glob.glob(os.path.join(\"vina-prep-frag\", \"*\", \"docking\", \"vina_results\", \"*\", \"*_out.pdbqt\"))\n",
    "for output_fp in tqdm(results):\n",
    "    protein = output_fp.split(\"/\")[-2].replace(\"_protein\", \"\")\n",
    "    category, lig_name = output_fp.split(\"/\")[-5].split(\"_\")\n",
    "    save_folder = os.path.join(folder, category, lig_name)\n",
    "    os.makedirs(save_folder, exist_ok = True)\n",
    "    AutoDockBaseDocking.convert_adresult_to_sdf(output_fp, os.path.join(save_folder, f\"{protein}_docked.sdf\"))"
   ]
  },
  {
   "cell_type": "code",
   "execution_count": null,
   "id": "ae8779ad",
   "metadata": {},
   "outputs": [],
   "source": []
  }
 ],
 "metadata": {
  "kernelspec": {
   "display_name": "group-iMiner",
   "language": "python",
   "name": "group-iminer"
  },
  "language_info": {
   "codemirror_mode": {
    "name": "ipython",
    "version": 3
   },
   "file_extension": ".py",
   "mimetype": "text/x-python",
   "name": "python",
   "nbconvert_exporter": "python",
   "pygments_lexer": "ipython3",
   "version": "3.8.10"
  }
 },
 "nbformat": 4,
 "nbformat_minor": 5
}
